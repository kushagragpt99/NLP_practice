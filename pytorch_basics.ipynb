{
  "nbformat": 4,
  "nbformat_minor": 0,
  "metadata": {
    "colab": {
      "name": "pytorch_basics.ipynb",
      "version": "0.3.2",
      "provenance": [],
      "include_colab_link": true
    },
    "kernelspec": {
      "name": "python3",
      "display_name": "Python 3"
    },
    "accelerator": "GPU"
  },
  "cells": [
    {
      "cell_type": "markdown",
      "metadata": {
        "id": "view-in-github",
        "colab_type": "text"
      },
      "source": [
        "<a href=\"https://colab.research.google.com/github/kushagragpt99/NLP_practice/blob/master/pytorch_basics.ipynb\" target=\"_parent\"><img src=\"https://colab.research.google.com/assets/colab-badge.svg\" alt=\"Open In Colab\"/></a>"
      ]
    },
    {
      "cell_type": "code",
      "metadata": {
        "id": "WqffNSnxnzfQ",
        "colab_type": "code",
        "colab": {}
      },
      "source": [
        "import torch\n",
        "import torch.nn as nn\n",
        "import torch.optim as optim\n",
        "import torch.nn.functional as F\n",
        "import matplotlib\n",
        "import matplotlib.pyplot as plt\n",
        "import numpy\n",
        "import random"
      ],
      "execution_count": 0,
      "outputs": []
    },
    {
      "cell_type": "code",
      "metadata": {
        "id": "dd38fINdogCg",
        "colab_type": "code",
        "outputId": "3e42c22f-cc7b-4384-9694-43aedcdb7696",
        "colab": {
          "base_uri": "https://localhost:8080/",
          "height": 36
        }
      },
      "source": [
        "torch .cuda.is_available()"
      ],
      "execution_count": 0,
      "outputs": [
        {
          "output_type": "execute_result",
          "data": {
            "text/plain": [
              "True"
            ]
          },
          "metadata": {
            "tags": []
          },
          "execution_count": 2
        }
      ]
    },
    {
      "cell_type": "code",
      "metadata": {
        "id": "tIaWeA4conRr",
        "colab_type": "code",
        "colab": {}
      },
      "source": [
        "def make_data(num_data):\n",
        "  data = []\n",
        "  for n in range(num_data):\n",
        "\n",
        "    # Generate a random state\n",
        "    # the distance to the nearest car in front/back/left/right is normalized from 0.0 (closest) to 1.0 (farthest)\n",
        "    carInFrontDist = random.random()\n",
        "    carInBackDist = random.random()\n",
        "    carLeftDist = random.random()\n",
        "    carRightDist = random.random()\n",
        "\n",
        "    # Response to the state. 1 =  brakes/accelerator/steer-left/steer-right is activated. 0=not activated\n",
        "    # Though binary, we will be using numbers\n",
        "    accel = 1.0\n",
        "    turn = 0.0\n",
        "\n",
        "    # Should I accelerate or brake?\n",
        "    if carInFrontDist < 0.50:\n",
        "      # Car is close, brake\n",
        "      # Unless there is another car close behind\n",
        "      if carInBackDist > 0.50:\n",
        "        # Okay to brake\n",
        "        accel = -carInFrontDist/0.50\n",
        "      else:\n",
        "        # Not okay to brake, but at least stop accelerating\n",
        "        accel = 0\n",
        "    else:\n",
        "      # Car in front is not close, continue to accelerate\n",
        "      accel = (carInFrontDist - 0.50)/0.50\n",
        "\n",
        "    # Should I turn left or right? (can't do both)\n",
        "    if carLeftDist < 0.5 or carRightDist < 0.5:\n",
        "      turn = (1.0 - (carLeftDist)) - (1.0 - carRightDist)\n",
        "\n",
        "    # Store the data\n",
        "    x = (carInFrontDist, carInBackDist, carLeftDist, carRightDist)\n",
        "    y = (accel, turn)\n",
        "    data.append((x, y))\n",
        "  return data"
      ],
      "execution_count": 0,
      "outputs": []
    },
    {
      "cell_type": "code",
      "metadata": {
        "id": "5xtLuhV7pekp",
        "colab_type": "code",
        "colab": {}
      },
      "source": [
        "train_data=make_data(10000)"
      ],
      "execution_count": 0,
      "outputs": []
    },
    {
      "cell_type": "code",
      "metadata": {
        "id": "46JNjS7krxXx",
        "colab_type": "code",
        "colab": {}
      },
      "source": [
        "def get_batch(data, batch_size, index):\n",
        "  # Get a chunk of data (array of tuples)\n",
        "  start_index = index * batch_size\n",
        "  end_index = start_index + batch_size\n",
        "  batch = data[start_index:end_index]\n",
        "  # Turn the array into tensors\n",
        "  batch_inputs = [e[0] for e in batch]\n",
        "  batch_outputs = [e[1] for e in batch]\n",
        "  x = torch.tensor(batch_inputs)\n",
        "  y = torch.tensor(batch_outputs)\n",
        "  return x, y"
      ],
      "execution_count": 0,
      "outputs": []
    },
    {
      "cell_type": "code",
      "metadata": {
        "id": "-HPweDN1so_g",
        "colab_type": "code",
        "outputId": "758c0bf9-4416-4165-90fc-5d0adc03fe71",
        "colab": {
          "base_uri": "https://localhost:8080/",
          "height": 391
        }
      },
      "source": [
        "x, y = get_batch(train_data, 8, 0)\n",
        "\n",
        "print('x:')\n",
        "print(x)\n",
        "print('shape of x:', x.size())\n",
        "\n",
        "print('y:')\n",
        "print(y)\n",
        "print('shape of y:', y.size())"
      ],
      "execution_count": 0,
      "outputs": [
        {
          "output_type": "stream",
          "text": [
            "x:\n",
            "tensor([[0.2697, 0.7446, 0.2122, 0.4136],\n",
            "        [0.7441, 0.6434, 0.6442, 0.7092],\n",
            "        [0.5366, 0.0433, 0.2016, 0.8251],\n",
            "        [0.9654, 0.3399, 0.9643, 0.4503],\n",
            "        [0.6988, 0.4455, 0.8345, 0.3043],\n",
            "        [0.7898, 0.8367, 0.5259, 0.0400],\n",
            "        [0.9558, 0.8289, 0.7149, 0.0109],\n",
            "        [0.1136, 0.3920, 0.4853, 0.0216]])\n",
            "shape of x: torch.Size([8, 4])\n",
            "y:\n",
            "tensor([[-0.5393,  0.2014],\n",
            "        [ 0.4881,  0.0000],\n",
            "        [ 0.0733,  0.6235],\n",
            "        [ 0.9308, -0.5140],\n",
            "        [ 0.3976, -0.5303],\n",
            "        [ 0.5796, -0.4859],\n",
            "        [ 0.9117, -0.7040],\n",
            "        [ 0.0000, -0.4637]])\n",
            "shape of y: torch.Size([8, 2])\n"
          ],
          "name": "stdout"
        }
      ]
    },
    {
      "cell_type": "code",
      "metadata": {
        "id": "Ho6F7QwFst2h",
        "colab_type": "code",
        "colab": {}
      },
      "source": [
        "class CarNet(nn.Module):\n",
        "  \n",
        "  def __init__(self):\n",
        "    super(CarNet, self).__init__()\n",
        "    \n",
        "    self.linear1=nn.Linear(4,16)\n",
        "    self.activation1=nn.Tanh()\n",
        "    self.linear2=nn.Linear(16,8)\n",
        "    self.activation2=nn.Tanh()\n",
        "    self.linear3=nn.Linear(8,2)\n",
        "    self.activation3=nn.Tanh()\n",
        "    \n",
        "  def forward(self,x):\n",
        "    \n",
        "    h1=self.activation1(self.linear1(x))\n",
        "    h2=self.activation2(self.linear2(h1))\n",
        "    y_hat=self.activation3(self.linear3(h2))\n",
        "    return y_hat\n",
        "    \n",
        "    "
      ],
      "execution_count": 0,
      "outputs": []
    },
    {
      "cell_type": "code",
      "metadata": {
        "id": "wvV0elxtxGwW",
        "colab_type": "code",
        "outputId": "ff2d0203-be75-4b7e-b84e-df91dd401cfa",
        "colab": {
          "base_uri": "https://localhost:8080/",
          "height": 634
        }
      },
      "source": [
        "linear1 = nn.Linear(4, 16)\n",
        "activation1 = nn.Tanh()\n",
        "\n",
        "x, _ = get_batch(train_data, 8, 0)\n",
        "\n",
        "h1 = activation1(linear1(x))\n",
        "print(h1)\n",
        "print(\"shape of h1:\", h1.size())"
      ],
      "execution_count": 0,
      "outputs": [
        {
          "output_type": "stream",
          "text": [
            "tensor([[-2.3306e-01,  1.9300e-01,  3.3517e-01,  4.4051e-01,  5.7874e-01,\n",
            "         -1.2013e-01,  4.9304e-02, -5.0900e-01, -1.6001e-01,  1.0193e-01,\n",
            "         -2.2827e-01, -2.1205e-01, -5.6236e-01, -5.1466e-02,  4.5709e-01,\n",
            "         -6.1832e-02],\n",
            "        [-5.7392e-01,  2.8779e-01,  2.4971e-01,  3.9961e-01,  3.8340e-01,\n",
            "         -1.7474e-01,  1.8791e-01, -5.6142e-01, -2.7155e-01,  2.9827e-01,\n",
            "          3.2767e-02,  2.7074e-02, -6.7900e-01, -1.1959e-01,  3.9280e-01,\n",
            "          1.6310e-01],\n",
            "        [-3.0533e-01,  5.4990e-01,  4.3366e-01,  1.8883e-01,  4.6471e-01,\n",
            "         -2.3833e-01,  3.9912e-01, -4.8643e-01,  6.0432e-02, -1.5987e-01,\n",
            "         -2.0122e-02,  2.1463e-01, -3.8227e-01,  1.4819e-02,  4.1454e-01,\n",
            "          2.7591e-01],\n",
            "        [-6.6624e-01,  3.4133e-01,  1.5001e-01,  4.4258e-01, -2.9216e-02,\n",
            "         -5.6656e-02,  3.5370e-01, -4.9976e-01, -3.2019e-01,  3.8154e-01,\n",
            "          2.6921e-01,  8.8591e-02, -6.9323e-01,  8.9522e-02,  4.8688e-02,\n",
            "          2.6637e-01],\n",
            "        [-5.5916e-01,  2.7920e-01,  1.7140e-01,  4.5973e-01,  9.0647e-02,\n",
            "         -2.2884e-03,  2.7955e-01, -4.7560e-01, -2.7330e-01,  3.3345e-01,\n",
            "          1.5971e-01, -2.9451e-02, -6.5022e-01,  1.1833e-01,  6.6941e-02,\n",
            "          1.2094e-01],\n",
            "        [-4.8459e-01, -5.1230e-04,  1.6093e-01,  6.4965e-01,  2.2069e-01,\n",
            "         -6.5891e-02,  2.0317e-02, -5.1026e-01, -4.7450e-01,  4.0834e-01,\n",
            "         -5.7629e-02, -3.6454e-01, -7.6352e-01,  2.5754e-02,  2.3717e-01,\n",
            "          7.8329e-02],\n",
            "        [-5.8715e-01, -1.5139e-02,  9.7462e-02,  6.7216e-01,  7.0959e-02,\n",
            "         -4.4137e-02,  5.1552e-02, -5.1532e-01, -5.3479e-01,  4.9902e-01,\n",
            "          4.4321e-02, -3.4394e-01, -8.0125e-01,  4.3139e-02,  1.4580e-01,\n",
            "          1.3045e-01],\n",
            "        [-1.9205e-01,  2.7263e-01,  2.6694e-01,  4.2625e-01,  2.8893e-01,\n",
            "          1.0708e-01,  2.3428e-01, -3.8207e-01, -5.6420e-02,  8.5314e-02,\n",
            "         -4.2836e-02, -1.7593e-01, -4.3352e-01,  2.5433e-01,  4.9066e-02,\n",
            "         -1.2780e-01]], grad_fn=<TanhBackward>)\n",
            "shape of h1: torch.Size([8, 16])\n"
          ],
          "name": "stdout"
        }
      ]
    },
    {
      "cell_type": "code",
      "metadata": {
        "id": "SgiFEVI9xLIO",
        "colab_type": "code",
        "outputId": "86308b26-0e73-4374-e08c-3adfff920e93",
        "colab": {
          "base_uri": "https://localhost:8080/",
          "height": 166
        }
      },
      "source": [
        "net=CarNet()\n",
        "if torch.cuda.is_available():\n",
        "  net=net.to('cuda')\n",
        "print(net)"
      ],
      "execution_count": 0,
      "outputs": [
        {
          "output_type": "stream",
          "text": [
            "CarNet(\n",
            "  (linear1): Linear(in_features=4, out_features=16, bias=True)\n",
            "  (activation1): Tanh()\n",
            "  (linear2): Linear(in_features=16, out_features=8, bias=True)\n",
            "  (activation2): Tanh()\n",
            "  (linear3): Linear(in_features=8, out_features=2, bias=True)\n",
            "  (activation3): Tanh()\n",
            ")\n"
          ],
          "name": "stdout"
        }
      ]
    },
    {
      "cell_type": "code",
      "metadata": {
        "id": "1tm2nLBKxXt7",
        "colab_type": "code",
        "outputId": "9762ad8d-9435-49f4-9266-21c20b7ae1c7",
        "colab": {
          "base_uri": "https://localhost:8080/",
          "height": 1157
        }
      },
      "source": [
        "for i, param in enumerate(net.parameters()):\n",
        "  print('parameter', i)\n",
        "  print(param, '\\n')"
      ],
      "execution_count": 0,
      "outputs": [
        {
          "output_type": "stream",
          "text": [
            "parameter 0\n",
            "Parameter containing:\n",
            "tensor([[-0.2550, -0.2123,  0.3803, -0.4705],\n",
            "        [ 0.4356, -0.1024, -0.4328,  0.1102],\n",
            "        [ 0.4356,  0.2911,  0.1256,  0.4724],\n",
            "        [-0.4076, -0.0854, -0.3744, -0.1539],\n",
            "        [-0.3497,  0.0788,  0.2828,  0.0258],\n",
            "        [-0.1343, -0.4592,  0.4395, -0.4571],\n",
            "        [-0.0049,  0.0035,  0.3209, -0.3757],\n",
            "        [ 0.1036, -0.4268, -0.1434, -0.2568],\n",
            "        [ 0.3873, -0.1647, -0.1292,  0.3359],\n",
            "        [ 0.4147, -0.1424, -0.2685,  0.4950],\n",
            "        [ 0.2864, -0.0347,  0.2984, -0.1712],\n",
            "        [ 0.3637,  0.1333, -0.2766, -0.2255],\n",
            "        [ 0.0030,  0.2284, -0.2850, -0.2764],\n",
            "        [ 0.0899, -0.0989, -0.3271,  0.3667],\n",
            "        [ 0.1341,  0.2389, -0.4162,  0.1427],\n",
            "        [ 0.0150,  0.1688, -0.3717,  0.3178]], device='cuda:0',\n",
            "       requires_grad=True) \n",
            "\n",
            "parameter 1\n",
            "Parameter containing:\n",
            "tensor([ 0.3910, -0.4626,  0.4232,  0.0981,  0.4763,  0.3017,  0.2458,  0.0609,\n",
            "         0.1640,  0.0756,  0.2637,  0.4407, -0.3215, -0.2359,  0.2191,  0.1594],\n",
            "       device='cuda:0', requires_grad=True) \n",
            "\n",
            "parameter 2\n",
            "Parameter containing:\n",
            "tensor([[-0.0599,  0.1743, -0.0019,  0.0626,  0.1532, -0.2204, -0.0701,  0.1388,\n",
            "          0.2494,  0.1323, -0.2121, -0.0655, -0.2221,  0.0592, -0.2478, -0.2332],\n",
            "        [ 0.0732,  0.0158, -0.1838,  0.1677, -0.0509,  0.1266,  0.1989, -0.1070,\n",
            "         -0.0288, -0.1240,  0.2046, -0.0309, -0.1799, -0.0481,  0.1312,  0.2468],\n",
            "        [-0.1590, -0.0274,  0.1914,  0.1769, -0.0109, -0.0540, -0.1423, -0.1224,\n",
            "         -0.0090,  0.1878, -0.0987,  0.1152,  0.0439,  0.1070, -0.2472,  0.1110],\n",
            "        [-0.1815, -0.0354, -0.1053, -0.2266, -0.0603,  0.1299,  0.0848, -0.2045,\n",
            "         -0.1683, -0.1865,  0.1895,  0.0206,  0.2407,  0.1146,  0.0683, -0.1472],\n",
            "        [ 0.2112,  0.1819,  0.0528, -0.1535,  0.0488, -0.1495, -0.0577,  0.1909,\n",
            "          0.1095, -0.0378,  0.2336, -0.1235,  0.1366, -0.2305, -0.1568,  0.0952],\n",
            "        [ 0.0211, -0.0098, -0.0496,  0.0576, -0.0230,  0.0715, -0.2148, -0.2014,\n",
            "          0.0502,  0.2355,  0.1476, -0.1009, -0.0914, -0.0807,  0.0235, -0.0289],\n",
            "        [ 0.0799,  0.1580, -0.2437, -0.0847,  0.1717,  0.0021,  0.0302,  0.0473,\n",
            "         -0.1699,  0.0846,  0.0133, -0.0701,  0.0367,  0.1867, -0.0658, -0.0718],\n",
            "        [-0.1071, -0.2208, -0.2404,  0.0840,  0.0298,  0.0457, -0.2066,  0.1168,\n",
            "         -0.0750,  0.1209,  0.0629,  0.1799, -0.0271,  0.0322, -0.0736, -0.0817]],\n",
            "       device='cuda:0', requires_grad=True) \n",
            "\n",
            "parameter 3\n",
            "Parameter containing:\n",
            "tensor([-0.2196, -0.0512,  0.0453, -0.0222, -0.1827,  0.1221, -0.2040, -0.0669],\n",
            "       device='cuda:0', requires_grad=True) \n",
            "\n",
            "parameter 4\n",
            "Parameter containing:\n",
            "tensor([[ 0.0124, -0.3407,  0.1358,  0.2145,  0.0335,  0.0500,  0.2649,  0.0315],\n",
            "        [-0.0587, -0.1709, -0.1570,  0.1919,  0.0637, -0.1490, -0.0330,  0.1179]],\n",
            "       device='cuda:0', requires_grad=True) \n",
            "\n",
            "parameter 5\n",
            "Parameter containing:\n",
            "tensor([-0.0801,  0.1272], device='cuda:0', requires_grad=True) \n",
            "\n"
          ],
          "name": "stdout"
        }
      ]
    },
    {
      "cell_type": "code",
      "metadata": {
        "id": "KFALrcKlythV",
        "colab_type": "code",
        "colab": {}
      },
      "source": [
        "optimizer=optim.Adam(net.parameters())"
      ],
      "execution_count": 0,
      "outputs": []
    },
    {
      "cell_type": "code",
      "metadata": {
        "id": "8XJjkGih0eSc",
        "colab_type": "code",
        "colab": {}
      },
      "source": [
        "loss_fn=nn.MSELoss()\n",
        "if torch.cuda.is_available():\n",
        "  loss_fn=loss_fn.to('cuda')"
      ],
      "execution_count": 0,
      "outputs": []
    },
    {
      "cell_type": "code",
      "metadata": {
        "id": "724mmSSj0vbl",
        "colab_type": "code",
        "colab": {}
      },
      "source": [
        "x,y=get_batch(train_data, 8, 0)\n",
        "\n",
        "if torch.cuda.is_available():\n",
        "  x=x.to('cuda')\n",
        "  y=y.to('cuda')\n",
        "  \n",
        "y_hat=net(x)"
      ],
      "execution_count": 0,
      "outputs": []
    },
    {
      "cell_type": "code",
      "metadata": {
        "id": "CAijd8d31bON",
        "colab_type": "code",
        "outputId": "e605a7aa-16b7-4345-cd5d-4fd69c849e68",
        "colab": {
          "base_uri": "https://localhost:8080/",
          "height": 185
        }
      },
      "source": [
        "print(y_hat)\n",
        "print('Shape of y_hat:', y_hat.size())"
      ],
      "execution_count": 0,
      "outputs": [
        {
          "output_type": "stream",
          "text": [
            "tensor([[-0.2127,  0.0452],\n",
            "        [-0.1869,  0.0409],\n",
            "        [-0.1888, -0.0008],\n",
            "        [-0.2012,  0.0731],\n",
            "        [-0.2150,  0.0830],\n",
            "        [-0.2129,  0.1012],\n",
            "        [-0.2107,  0.1120],\n",
            "        [-0.2505,  0.0911]], device='cuda:0', grad_fn=<TanhBackward>)\n",
            "Shape of y_hat: torch.Size([8, 2])\n"
          ],
          "name": "stdout"
        }
      ]
    },
    {
      "cell_type": "code",
      "metadata": {
        "id": "GKv03LVc1gdG",
        "colab_type": "code",
        "outputId": "20fdd99a-a1c5-41b9-93e0-d14d48e96824",
        "colab": {
          "base_uri": "https://localhost:8080/",
          "height": 36
        }
      },
      "source": [
        "loss=loss_fn(y_hat,y)\n",
        "print(loss)"
      ],
      "execution_count": 0,
      "outputs": [
        {
          "output_type": "stream",
          "text": [
            "tensor(0.4183, device='cuda:0', grad_fn=<MseLossBackward>)\n"
          ],
          "name": "stdout"
        }
      ]
    },
    {
      "cell_type": "code",
      "metadata": {
        "id": "vlUWTaAC1nzx",
        "colab_type": "code",
        "outputId": "4fe4f323-6536-4e34-e21c-d203ecb4d805",
        "colab": {
          "base_uri": "https://localhost:8080/",
          "height": 36
        }
      },
      "source": [
        "y_hat[0][0].item()"
      ],
      "execution_count": 0,
      "outputs": [
        {
          "output_type": "execute_result",
          "data": {
            "text/plain": [
              "-0.2126571536064148"
            ]
          },
          "metadata": {
            "tags": []
          },
          "execution_count": 55
        }
      ]
    },
    {
      "cell_type": "code",
      "metadata": {
        "id": "wQl8YxcL2ho9",
        "colab_type": "code",
        "outputId": "80e552b9-4696-4704-8d7e-6c2def4df06b",
        "colab": {
          "base_uri": "https://localhost:8080/",
          "height": 2334
        }
      },
      "source": [
        "for i, param in enumerate(net.parameters()):\n",
        "  print('Parameter', i)\n",
        "  print(param)\n",
        "  print('gradients:')\n",
        "  print(param.grad.data, '\\n')"
      ],
      "execution_count": 0,
      "outputs": [
        {
          "output_type": "stream",
          "text": [
            "Parameter 0\n",
            "Parameter containing:\n",
            "tensor([[-0.2560, -0.2133,  0.3793, -0.4715],\n",
            "        [ 0.4366, -0.1014, -0.4318,  0.1112],\n",
            "        [ 0.4366,  0.2921,  0.1266,  0.4734],\n",
            "        [-0.4086, -0.0864, -0.3754, -0.1549],\n",
            "        [-0.3487,  0.0798,  0.2838,  0.0268],\n",
            "        [-0.1353, -0.4602,  0.4385, -0.4581],\n",
            "        [-0.0059,  0.0025,  0.3199, -0.3767],\n",
            "        [ 0.1026, -0.4278, -0.1444, -0.2577],\n",
            "        [ 0.3863, -0.1657, -0.1302,  0.3349],\n",
            "        [ 0.4157, -0.1414, -0.2675,  0.4960],\n",
            "        [ 0.2854, -0.0357,  0.2974, -0.1722],\n",
            "        [ 0.3647,  0.1323, -0.2776, -0.2245],\n",
            "        [ 0.0040,  0.2294, -0.2840, -0.2754],\n",
            "        [ 0.0909, -0.0979, -0.3261,  0.3677],\n",
            "        [ 0.1331,  0.2379, -0.4172,  0.1417],\n",
            "        [ 0.0140,  0.1678, -0.3727,  0.3168]], device='cuda:0',\n",
            "       requires_grad=True)\n",
            "gradients:\n",
            "tensor([[ 0.0229,  0.0142,  0.0191,  0.0099],\n",
            "        [-0.0121, -0.0094, -0.0118, -0.0018],\n",
            "        [-0.0034, -0.0030, -0.0037, -0.0002],\n",
            "        [ 0.0133,  0.0039,  0.0071,  0.0126],\n",
            "        [-0.0165, -0.0112, -0.0146, -0.0055],\n",
            "        [ 0.0130,  0.0091,  0.0118,  0.0039],\n",
            "        [ 0.0348,  0.0235,  0.0311,  0.0119],\n",
            "        [ 0.0150,  0.0125,  0.0153,  0.0012],\n",
            "        [ 0.0124,  0.0068,  0.0094,  0.0067],\n",
            "        [-0.0433, -0.0330, -0.0412, -0.0087],\n",
            "        [ 0.0119,  0.0090,  0.0116,  0.0024],\n",
            "        [-0.0001,  0.0009,  0.0009, -0.0018],\n",
            "        [-0.0248, -0.0133, -0.0182, -0.0142],\n",
            "        [-0.0324, -0.0211, -0.0285, -0.0124],\n",
            "        [ 0.0428,  0.0297,  0.0391,  0.0133],\n",
            "        [ 0.0353,  0.0203,  0.0282,  0.0178]], device='cuda:0') \n",
            "\n",
            "Parameter 1\n",
            "Parameter containing:\n",
            "tensor([ 0.3900, -0.4616,  0.4242,  0.0971,  0.4773,  0.3007,  0.2448,  0.0599,\n",
            "         0.1630,  0.0766,  0.2627,  0.4397, -0.3205, -0.2349,  0.2181,  0.1584],\n",
            "       device='cuda:0', requires_grad=True)\n",
            "gradients:\n",
            "tensor([ 0.0269, -0.0142, -0.0047,  0.0144, -0.0196,  0.0155,  0.0416,  0.0185,\n",
            "         0.0140, -0.0533,  0.0146,  0.0001, -0.0280, -0.0386,  0.0516,  0.0408],\n",
            "       device='cuda:0') \n",
            "\n",
            "Parameter 2\n",
            "Parameter containing:\n",
            "tensor([[-0.0589,  0.1733, -0.0009,  0.0616,  0.1542, -0.2194, -0.0691,  0.1378,\n",
            "          0.2504,  0.1333, -0.2111, -0.0645, -0.2231,  0.0582, -0.2468, -0.2342],\n",
            "        [ 0.0722,  0.0168, -0.1848,  0.1687, -0.0519,  0.1256,  0.1979, -0.1060,\n",
            "         -0.0298, -0.1250,  0.2036, -0.0319, -0.1789, -0.0471,  0.1302,  0.2458],\n",
            "        [-0.1580, -0.0284,  0.1924,  0.1759, -0.0099, -0.0530, -0.1413, -0.1234,\n",
            "         -0.0080,  0.1888, -0.0977,  0.1162,  0.0429,  0.1060, -0.2462,  0.1120],\n",
            "        [-0.1805, -0.0364, -0.1043, -0.2276, -0.0593,  0.1289,  0.0858, -0.2055,\n",
            "         -0.1673, -0.1855,  0.1905,  0.0216,  0.2397,  0.1136,  0.0693, -0.1462],\n",
            "        [ 0.2102,  0.1829,  0.0537, -0.1525,  0.0478, -0.1505, -0.0587,  0.1919,\n",
            "          0.1105, -0.0368,  0.2326, -0.1245,  0.1356, -0.2295, -0.1558,  0.0962],\n",
            "        [ 0.0221, -0.0108, -0.0486,  0.0566, -0.0220,  0.0725, -0.2138, -0.2024,\n",
            "          0.0512,  0.2365,  0.1486, -0.0999, -0.0924, -0.0817,  0.0245, -0.0279],\n",
            "        [ 0.0809,  0.1570, -0.2427, -0.0857,  0.1727,  0.0031,  0.0312,  0.0463,\n",
            "         -0.1689,  0.0856,  0.0143, -0.0691,  0.0357,  0.1857, -0.0648, -0.0708],\n",
            "        [-0.1081, -0.2198, -0.2414,  0.0850,  0.0288,  0.0447, -0.2076,  0.1178,\n",
            "         -0.0760,  0.1219,  0.0619,  0.1789, -0.0261,  0.0332, -0.0746, -0.0807]],\n",
            "       device='cuda:0', requires_grad=True)\n",
            "gradients:\n",
            "tensor([[-6.5148e-03,  9.8891e-03, -1.5875e-02,  1.1084e-02, -9.0004e-03,\n",
            "         -4.5159e-03, -9.4656e-03,  5.5253e-03, -5.4923e-03, -2.5398e-03,\n",
            "         -1.2574e-02, -1.0398e-02,  7.9183e-03,  9.3164e-03, -2.8436e-03,\n",
            "          2.3986e-04],\n",
            "        [ 1.8157e-02, -5.0801e-02,  1.1329e-01, -7.3344e-02,  5.4106e-02,\n",
            "          9.5979e-03,  3.9887e-02, -3.5473e-02,  5.7329e-02,  4.6954e-02,\n",
            "          7.4212e-02,  6.5133e-02, -6.3058e-02, -3.6646e-02,  2.9574e-02,\n",
            "          1.7187e-02],\n",
            "        [-3.1727e-02,  5.5192e-02, -9.8071e-02,  6.5884e-02, -5.2712e-02,\n",
            "         -2.0792e-02, -4.9932e-02,  3.2776e-02, -3.9124e-02, -2.4120e-02,\n",
            "         -7.2612e-02, -6.1865e-02,  5.0559e-02,  4.8426e-02, -2.0973e-02,\n",
            "         -4.7497e-03],\n",
            "        [-2.3401e-03,  1.8399e-02, -4.9911e-02,  3.1681e-02, -2.1686e-02,\n",
            "          2.0750e-04, -1.2263e-02,  1.5004e-02, -2.8931e-02, -2.6459e-02,\n",
            "         -2.9862e-02, -2.6803e-02,  2.9111e-02,  1.0384e-02, -1.4609e-02,\n",
            "         -1.1019e-02],\n",
            "        [ 3.2917e-03, -2.2901e-03, -4.6179e-05, -4.7007e-04,  1.1874e-03,\n",
            "          2.5703e-03,  3.1603e-03, -4.1334e-04, -2.1872e-03, -3.4249e-03,\n",
            "          1.6983e-03,  1.1012e-03,  8.5416e-04, -3.4288e-03, -9.6938e-04,\n",
            "         -2.0981e-03],\n",
            "        [-2.0807e-02,  3.3157e-02, -5.5244e-02,  3.7449e-02, -3.0791e-02,\n",
            "         -1.3943e-02, -3.0939e-02,  1.8838e-02, -2.0061e-02, -1.0499e-02,\n",
            "         -4.2401e-02, -3.5925e-02,  2.7677e-02,  3.0341e-02, -1.1067e-02,\n",
            "         -8.9393e-04],\n",
            "        [-2.5441e-02,  5.1313e-02, -9.9530e-02,  6.5763e-02, -5.1103e-02,\n",
            "         -1.5941e-02, -4.4031e-02,  3.2294e-02, -4.4267e-02, -3.1626e-02,\n",
            "         -7.0075e-02, -6.0298e-02,  5.3251e-02,  4.1927e-02, -2.3154e-02,\n",
            "         -9.1522e-03],\n",
            "        [ 9.1050e-03, -1.0652e-02,  1.2665e-02, -9.2965e-03,  8.6557e-03,\n",
            "          6.6005e-03,  1.1276e-02, -4.9023e-03,  1.7751e-03, -2.0471e-03,\n",
            "          1.2014e-02,  9.6760e-03, -5.2987e-03, -1.1487e-02,  1.2305e-03,\n",
            "         -2.5741e-03]], device='cuda:0') \n",
            "\n",
            "Parameter 3\n",
            "Parameter containing:\n",
            "tensor([-0.2186, -0.0522,  0.0463, -0.0212, -0.1837,  0.1231, -0.2030, -0.0679],\n",
            "       device='cuda:0', requires_grad=True)\n",
            "gradients:\n",
            "tensor([-0.0200,  0.1350, -0.1219, -0.0575,  0.0010, -0.0697, -0.1217,  0.0173],\n",
            "       device='cuda:0') \n",
            "\n",
            "Parameter 4\n",
            "Parameter containing:\n",
            "tensor([[ 0.0114, -0.3397,  0.1368,  0.2135,  0.0325,  0.0510,  0.2639,  0.0305],\n",
            "        [-0.0577, -0.1719, -0.1560,  0.1909,  0.0647, -0.1500, -0.0320,  0.1189]],\n",
            "       device='cuda:0', requires_grad=True)\n",
            "gradients:\n",
            "tensor([[ 0.1961, -0.0034, -0.0066,  0.0383,  0.0336, -0.1195,  0.2545,  0.1163],\n",
            "        [-0.1401,  0.0208, -0.0291,  0.0049, -0.0081,  0.0504, -0.1378, -0.0657]],\n",
            "       device='cuda:0') \n",
            "\n",
            "Parameter 5\n",
            "Parameter containing:\n",
            "tensor([-0.0791,  0.1262], device='cuda:0', requires_grad=True)\n",
            "gradients:\n",
            "tensor([-0.5480,  0.3013], device='cuda:0') \n",
            "\n"
          ],
          "name": "stdout"
        }
      ]
    },
    {
      "cell_type": "code",
      "metadata": {
        "id": "t8q3wirD2j9d",
        "colab_type": "code",
        "outputId": "99f6e552-bf8d-43eb-8319-902718186713",
        "colab": {
          "base_uri": "https://localhost:8080/",
          "height": 1885
        }
      },
      "source": [
        "num_epochs=100\n",
        "batch_size=8\n",
        "num_batches=len(train_data)//batch_size\n",
        "loss_history=[]\n",
        "\n",
        "net=CarNet()\n",
        "if torch.cuda.is_available():\n",
        "  net=net.to('cuda')\n",
        "optimizer=optim.Adam(net.parameters())\n",
        "# loss_fun=nn.MSELoss()\n",
        "\n",
        "# if torch.cuda.is_available():\n",
        "#   loss_fun=loss_fun.to('cuda')\n",
        "  \n",
        "for i in range(num_epochs):\n",
        "  epoch_loss=0\n",
        "  \n",
        "  for j in range(num_batches):\n",
        "    optimizer.zero_grad()\n",
        "    x,y=get_batch(train_data, batch_size, j)\n",
        "    \n",
        "    if torch.cuda.is_available():\n",
        "      x=x.to('cuda')\n",
        "      y=y.to('cuda')\n",
        "      \n",
        "    y_hat=net(x)\n",
        "    loss=loss_fun(y_hat,y)\n",
        "    epoch_loss+=loss.item()\n",
        "    loss.backward()\n",
        "    optimizer.step()\n",
        "    \n",
        "  print('epoch', i, 'epoch loss', epoch_loss/num_batches)\n",
        "  loss_history.append(epoch_loss/num_batches);\n",
        "    "
      ],
      "execution_count": 0,
      "outputs": [
        {
          "output_type": "stream",
          "text": [
            "epoch 0 epoch loss 0.06882514853850007\n",
            "epoch 1 epoch loss 0.04868429176807403\n",
            "epoch 2 epoch loss 0.0384831075717695\n",
            "epoch 3 epoch loss 0.025419864444062114\n",
            "epoch 4 epoch loss 0.021023339227959514\n",
            "epoch 5 epoch loss 0.019416765158623457\n",
            "epoch 6 epoch loss 0.018092637577466666\n",
            "epoch 7 epoch loss 0.017151362103875727\n",
            "epoch 8 epoch loss 0.016320354416500777\n",
            "epoch 9 epoch loss 0.01534248005207628\n",
            "epoch 10 epoch loss 0.014420087489765138\n",
            "epoch 11 epoch loss 0.01380841997032985\n",
            "epoch 12 epoch loss 0.013423612722475081\n",
            "epoch 13 epoch loss 0.013156526737567037\n",
            "epoch 14 epoch loss 0.012958292113337665\n",
            "epoch 15 epoch loss 0.012802122454531491\n",
            "epoch 16 epoch loss 0.012670034377416596\n",
            "epoch 17 epoch loss 0.012549217394087464\n",
            "epoch 18 epoch loss 0.012430632635066287\n",
            "epoch 19 epoch loss 0.012309151443326847\n",
            "epoch 20 epoch loss 0.012184208812145516\n",
            "epoch 21 epoch loss 0.012059268792998045\n",
            "epoch 22 epoch loss 0.011939386867964641\n",
            "epoch 23 epoch loss 0.011828398537496105\n",
            "epoch 24 epoch loss 0.011727793321898206\n",
            "epoch 25 epoch loss 0.011637466035131366\n",
            "epoch 26 epoch loss 0.011556747858133168\n",
            "epoch 27 epoch loss 0.011484690120490268\n",
            "epoch 28 epoch loss 0.011420017663761974\n",
            "epoch 29 epoch loss 0.011361271559400483\n",
            "epoch 30 epoch loss 0.011307050570845604\n",
            "epoch 31 epoch loss 0.011256150020239875\n",
            "epoch 32 epoch loss 0.011207593553606421\n",
            "epoch 33 epoch loss 0.011160608568089083\n",
            "epoch 34 epoch loss 0.011114581610960886\n",
            "epoch 35 epoch loss 0.011069013442005962\n",
            "epoch 36 epoch loss 0.011023489026725293\n",
            "epoch 37 epoch loss 0.010977643202524633\n",
            "epoch 38 epoch loss 0.010931137669831514\n",
            "epoch 39 epoch loss 0.010883638015715406\n",
            "epoch 40 epoch loss 0.01083480733949691\n",
            "epoch 41 epoch loss 0.010784291550563648\n",
            "epoch 42 epoch loss 0.010731717283604666\n",
            "epoch 43 epoch loss 0.01067668796586804\n",
            "epoch 44 epoch loss 0.010618788031721487\n",
            "epoch 45 epoch loss 0.01055759969316423\n",
            "epoch 46 epoch loss 0.010492746537155472\n",
            "epoch 47 epoch loss 0.010423997359443457\n",
            "epoch 48 epoch loss 0.010351400562049822\n",
            "epoch 49 epoch loss 0.010275377530232072\n",
            "epoch 50 epoch loss 0.01019667712834198\n",
            "epoch 51 epoch loss 0.010116189394425601\n",
            "epoch 52 epoch loss 0.010034719136636705\n",
            "epoch 53 epoch loss 0.009952843175735325\n",
            "epoch 54 epoch loss 0.009870862671313808\n",
            "epoch 55 epoch loss 0.009788841582508758\n",
            "epoch 56 epoch loss 0.00970667413608171\n",
            "epoch 57 epoch loss 0.00962414125725627\n",
            "epoch 58 epoch loss 0.009540968424547464\n",
            "epoch 59 epoch loss 0.009456859247153625\n",
            "epoch 60 epoch loss 0.009371521804807707\n",
            "epoch 61 epoch loss 0.009284688498033211\n",
            "epoch 62 epoch loss 0.009196130755916238\n",
            "epoch 63 epoch loss 0.009105656826449558\n",
            "epoch 64 epoch loss 0.009013117554062046\n",
            "epoch 65 epoch loss 0.008918409908004105\n",
            "epoch 66 epoch loss 0.00882148974700831\n",
            "epoch 67 epoch loss 0.008722373041510582\n",
            "epoch 68 epoch loss 0.008621164953056723\n",
            "epoch 69 epoch loss 0.008518092302791774\n",
            "epoch 70 epoch loss 0.008413553429348394\n",
            "epoch 71 epoch loss 0.008308160410099663\n",
            "epoch 72 epoch loss 0.008202733402559535\n",
            "epoch 73 epoch loss 0.008098224275559188\n",
            "epoch 74 epoch loss 0.007995562860742211\n",
            "epoch 75 epoch loss 0.007895519639831036\n",
            "epoch 76 epoch loss 0.0077986358302179724\n",
            "epoch 77 epoch loss 0.007705253661144525\n",
            "epoch 78 epoch loss 0.0076155606158077715\n",
            "epoch 79 epoch loss 0.007529644763702527\n",
            "epoch 80 epoch loss 0.007447507726866752\n",
            "epoch 81 epoch loss 0.007369087557750754\n",
            "epoch 82 epoch loss 0.007294269691361114\n",
            "epoch 83 epoch loss 0.007222897639218718\n",
            "epoch 84 epoch loss 0.007154783711628988\n",
            "epoch 85 epoch loss 0.007089724084432237\n",
            "epoch 86 epoch loss 0.007027510361443274\n",
            "epoch 87 epoch loss 0.0069679347533499825\n",
            "epoch 88 epoch loss 0.006910794518562034\n",
            "epoch 89 epoch loss 0.0068558995882282035\n",
            "epoch 90 epoch loss 0.006803072080947459\n",
            "epoch 91 epoch loss 0.006752155246725306\n",
            "epoch 92 epoch loss 0.006702996811503544\n",
            "epoch 93 epoch loss 0.006655462683807127\n",
            "epoch 94 epoch loss 0.006609431714750826\n",
            "epoch 95 epoch loss 0.0065647940143244345\n",
            "epoch 96 epoch loss 0.006521445253957063\n",
            "epoch 97 epoch loss 0.006479299579653889\n",
            "epoch 98 epoch loss 0.006438272731832694\n",
            "epoch 99 epoch loss 0.006398288265871815\n"
          ],
          "name": "stdout"
        }
      ]
    },
    {
      "cell_type": "code",
      "metadata": {
        "id": "J1QxGYSf3aq1",
        "colab_type": "code",
        "outputId": "e2f9832c-8f14-49a6-c65b-449dc491fd3e",
        "colab": {
          "base_uri": "https://localhost:8080/",
          "height": 302
        }
      },
      "source": [
        "is_python='inline' in matplotlib.get_backend()\n",
        "if is_python:\n",
        "  from IPython import display\n",
        "plt.ion()\n",
        "\n",
        "plt.figure()\n",
        "plt.clf()\n",
        "plt.xlabel('Epoch')\n",
        "plt.ylabel('Loss')\n",
        "plt.plot(numpy.array(loss_history))"
      ],
      "execution_count": 0,
      "outputs": [
        {
          "output_type": "execute_result",
          "data": {
            "text/plain": [
              "[<matplotlib.lines.Line2D at 0x7f1118532b00>]"
            ]
          },
          "metadata": {
            "tags": []
          },
          "execution_count": 65
        },
        {
          "output_type": "display_data",
          "data": {
            "image/png": "[encoded data removed]",
            "text/plain": [
              "<Figure size 432x288 with 1 Axes>"
            ]
          },
          "metadata": {
            "tags": []
          }
        }
      ]
    },
    {
      "cell_type": "code",
      "metadata": {
        "id": "eRT3PQMWKeNO",
        "colab_type": "code",
        "colab": {}
      },
      "source": [
        ""
      ],
      "execution_count": 0,
      "outputs": []
    }
  ]
}