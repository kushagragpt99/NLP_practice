{
 "cells": [
  {
   "cell_type": "code",
   "execution_count": 1,
   "metadata": {},
   "outputs": [],
   "source": [
    "import numpy as np"
   ]
  },
  {
   "cell_type": "code",
   "execution_count": 4,
   "metadata": {},
   "outputs": [],
   "source": [
    "def softmax(x):\n",
    "    e_x = np.exp(x - np.max(x))\n",
    "    return e_x / e_x.sum(axis=0)\n",
    "\n",
    "def sigmoid(x):\n",
    "    return 1 / (1 + np.exp(-x))"
   ]
  },
  {
   "cell_type": "code",
   "execution_count": 5,
   "metadata": {},
   "outputs": [],
   "source": [
    "def LSTM_forward_prop(x_t, a_prev, c_prev, parameters):\n",
    "   \n",
    "    Wf = parameters[\"Wf\"]\n",
    "    bf = parameters[\"bf\"]\n",
    "    Wi = parameters[\"Wi\"]\n",
    "    bi = parameters[\"bi\"]\n",
    "    Wc = parameters[\"Wc\"]\n",
    "    bc = parameters[\"bc\"]\n",
    "    Wo = parameters[\"Wo\"]\n",
    "    bo = parameters[\"bo\"]\n",
    "    Wy = parameters[\"Wy\"]\n",
    "    by = parameters[\"by\"]\n",
    "    \n",
    "    n_x, m = xt.shape\n",
    "    n_y, n_a = Wy.shape\n",
    "\n",
    "    concat = np.zeros((n_x+n_a,m))\n",
    "    concat[: n_a, :] = a_prev\n",
    "    concat[n_a :, :] = xt\n",
    "\n",
    "    ft = sigmoid(np.dot(Wf,concat) + bf)\n",
    "    it = sigmoid(np.dot(Wi,concat) + bi)\n",
    "    cct = np.tanh(np.dot(Wc,concat) + bc)\n",
    "    c_next = np.multiply(ft,c_prev) + np.multiply(it,cct)\n",
    "    ot = sigmoid(np.dot(Wo,concat) + bo)\n",
    "    a_next = np.multiply(ot, np.tanh(c_next))\n",
    "    \n",
    "    yt_pred = softmax(np.dot(Wy, a_next) +by)\n",
    "    \n",
    "    cache = (a_next, c_next, a_prev, c_prev, ft, it, cct, ot, xt, parameters)\n",
    "\n",
    "    return a_next, c_next, yt_pred, cache"
   ]
  },
  {
   "cell_type": "code",
   "execution_count": 10,
   "metadata": {},
   "outputs": [],
   "source": [
    "def LSTM_forward(x, a0, parameters):\n",
    "\n",
    "    caches = []\n",
    "    \n",
    "    n_x, m, T_x = x.shape\n",
    "    n_y, n_a = parameters['Wy'].shape\n",
    "    \n",
    "    a = np.zeros((n_a,m,T_x))\n",
    "    c = np.zeros((n_a,m,T_x))\n",
    "    y = np.zeros((n_y,m,T_x))\n",
    "    \n",
    "    a_next = a0\n",
    "    c_next = np.zeros((n_a,m))\n",
    "    \n",
    "    for t in range(T_x):\n",
    "        a_next, c_next, yt, cache = LSTM_forward_prop(x[:,:,t],a_next,c_next,parameters)\n",
    "        a[:,:,t] = a_next\n",
    "        y[:,:,t] = yt\n",
    "        c[:,:,t]  = c_next\n",
    "        caches.append(cache)\n",
    "\n",
    "    caches = (caches, x)\n",
    "\n",
    "    return a, y, c, caches"
   ]
  },
  {
   "cell_type": "code",
   "execution_count": null,
   "metadata": {},
   "outputs": [],
   "source": []
  }
 ],
 "metadata": {
  "kernelspec": {
   "display_name": "Python 3",
   "language": "python",
   "name": "python3"
  },
  "language_info": {
   "codemirror_mode": {
    "name": "ipython",
    "version": 3
   },
   "file_extension": ".py",
   "mimetype": "text/x-python",
   "name": "python",
   "nbconvert_exporter": "python",
   "pygments_lexer": "ipython3",
   "version": "3.6.4"
  }
 },
 "nbformat": 4,
 "nbformat_minor": 2
}
